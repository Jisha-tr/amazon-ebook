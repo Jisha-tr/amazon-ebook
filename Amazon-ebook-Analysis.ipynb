{
 "cells": [
  {
   "cell_type": "code",
   "execution_count": 2,
   "metadata": {},
   "outputs": [],
   "source": [
    "import numpy as np # linear algebra\n",
    "import pandas as pd # data processing, CSV file I/O\n",
    "import matplotlib.pyplot as plt \n",
    "import seaborn as sns "
   ]
  },
  {
   "cell_type": "code",
   "execution_count": 3,
   "metadata": {},
   "outputs": [
    {
     "data": {
      "text/html": [
       "<div>\n",
       "<style scoped>\n",
       "    .dataframe tbody tr th:only-of-type {\n",
       "        vertical-align: middle;\n",
       "    }\n",
       "\n",
       "    .dataframe tbody tr th {\n",
       "        vertical-align: top;\n",
       "    }\n",
       "\n",
       "    .dataframe thead th {\n",
       "        text-align: right;\n",
       "    }\n",
       "</style>\n",
       "<table border=\"1\" class=\"dataframe\">\n",
       "  <thead>\n",
       "    <tr style=\"text-align: right;\">\n",
       "      <th></th>\n",
       "      <th>Name</th>\n",
       "      <th>Author</th>\n",
       "      <th>User Rating</th>\n",
       "      <th>Reviews</th>\n",
       "      <th>Price</th>\n",
       "      <th>Year</th>\n",
       "      <th>Genre</th>\n",
       "    </tr>\n",
       "  </thead>\n",
       "  <tbody>\n",
       "    <tr>\n",
       "      <th>0</th>\n",
       "      <td>10-Day Green Smoothie Cleanse</td>\n",
       "      <td>JJ Smith</td>\n",
       "      <td>4.7</td>\n",
       "      <td>17350</td>\n",
       "      <td>8</td>\n",
       "      <td>2016</td>\n",
       "      <td>Non Fiction</td>\n",
       "    </tr>\n",
       "    <tr>\n",
       "      <th>1</th>\n",
       "      <td>11/22/63: A Novel</td>\n",
       "      <td>Stephen King</td>\n",
       "      <td>4.6</td>\n",
       "      <td>2052</td>\n",
       "      <td>22</td>\n",
       "      <td>2011</td>\n",
       "      <td>Fiction</td>\n",
       "    </tr>\n",
       "    <tr>\n",
       "      <th>2</th>\n",
       "      <td>12 Rules for Life: An Antidote to Chaos</td>\n",
       "      <td>Jordan B. Peterson</td>\n",
       "      <td>4.7</td>\n",
       "      <td>18979</td>\n",
       "      <td>15</td>\n",
       "      <td>2018</td>\n",
       "      <td>Non Fiction</td>\n",
       "    </tr>\n",
       "    <tr>\n",
       "      <th>3</th>\n",
       "      <td>1984 (Signet Classics)</td>\n",
       "      <td>George Orwell</td>\n",
       "      <td>4.7</td>\n",
       "      <td>21424</td>\n",
       "      <td>6</td>\n",
       "      <td>2017</td>\n",
       "      <td>Fiction</td>\n",
       "    </tr>\n",
       "    <tr>\n",
       "      <th>4</th>\n",
       "      <td>5,000 Awesome Facts (About Everything!) (Natio...</td>\n",
       "      <td>National Geographic Kids</td>\n",
       "      <td>4.8</td>\n",
       "      <td>7665</td>\n",
       "      <td>12</td>\n",
       "      <td>2019</td>\n",
       "      <td>Non Fiction</td>\n",
       "    </tr>\n",
       "    <tr>\n",
       "      <th>5</th>\n",
       "      <td>A Dance with Dragons (A Song of Ice and Fire)</td>\n",
       "      <td>George R. R. Martin</td>\n",
       "      <td>4.4</td>\n",
       "      <td>12643</td>\n",
       "      <td>11</td>\n",
       "      <td>2011</td>\n",
       "      <td>Fiction</td>\n",
       "    </tr>\n",
       "    <tr>\n",
       "      <th>6</th>\n",
       "      <td>A Game of Thrones / A Clash of Kings / A Storm...</td>\n",
       "      <td>George R. R. Martin</td>\n",
       "      <td>4.7</td>\n",
       "      <td>19735</td>\n",
       "      <td>30</td>\n",
       "      <td>2014</td>\n",
       "      <td>Fiction</td>\n",
       "    </tr>\n",
       "    <tr>\n",
       "      <th>7</th>\n",
       "      <td>A Gentleman in Moscow: A Novel</td>\n",
       "      <td>Amor Towles</td>\n",
       "      <td>4.7</td>\n",
       "      <td>19699</td>\n",
       "      <td>15</td>\n",
       "      <td>2017</td>\n",
       "      <td>Fiction</td>\n",
       "    </tr>\n",
       "    <tr>\n",
       "      <th>8</th>\n",
       "      <td>A Higher Loyalty: Truth, Lies, and Leadership</td>\n",
       "      <td>James Comey</td>\n",
       "      <td>4.7</td>\n",
       "      <td>5983</td>\n",
       "      <td>3</td>\n",
       "      <td>2018</td>\n",
       "      <td>Non Fiction</td>\n",
       "    </tr>\n",
       "    <tr>\n",
       "      <th>9</th>\n",
       "      <td>A Man Called Ove: A Novel</td>\n",
       "      <td>Fredrik Backman</td>\n",
       "      <td>4.6</td>\n",
       "      <td>23848</td>\n",
       "      <td>8</td>\n",
       "      <td>2016</td>\n",
       "      <td>Fiction</td>\n",
       "    </tr>\n",
       "  </tbody>\n",
       "</table>\n",
       "</div>"
      ],
      "text/plain": [
       "                                                Name  \\\n",
       "0                      10-Day Green Smoothie Cleanse   \n",
       "1                                  11/22/63: A Novel   \n",
       "2            12 Rules for Life: An Antidote to Chaos   \n",
       "3                             1984 (Signet Classics)   \n",
       "4  5,000 Awesome Facts (About Everything!) (Natio...   \n",
       "5      A Dance with Dragons (A Song of Ice and Fire)   \n",
       "6  A Game of Thrones / A Clash of Kings / A Storm...   \n",
       "7                     A Gentleman in Moscow: A Novel   \n",
       "8      A Higher Loyalty: Truth, Lies, and Leadership   \n",
       "9                          A Man Called Ove: A Novel   \n",
       "\n",
       "                     Author  User Rating  Reviews  Price  Year        Genre  \n",
       "0                  JJ Smith          4.7    17350      8  2016  Non Fiction  \n",
       "1              Stephen King          4.6     2052     22  2011      Fiction  \n",
       "2        Jordan B. Peterson          4.7    18979     15  2018  Non Fiction  \n",
       "3             George Orwell          4.7    21424      6  2017      Fiction  \n",
       "4  National Geographic Kids          4.8     7665     12  2019  Non Fiction  \n",
       "5       George R. R. Martin          4.4    12643     11  2011      Fiction  \n",
       "6       George R. R. Martin          4.7    19735     30  2014      Fiction  \n",
       "7               Amor Towles          4.7    19699     15  2017      Fiction  \n",
       "8               James Comey          4.7     5983      3  2018  Non Fiction  \n",
       "9           Fredrik Backman          4.6    23848      8  2016      Fiction  "
      ]
     },
     "execution_count": 3,
     "metadata": {},
     "output_type": "execute_result"
    }
   ],
   "source": [
    "ebooks = pd.read_csv('Data/bestsellers_amazon.csv')\n",
    "ebooks.head(10)"
   ]
  },
  {
   "cell_type": "code",
   "execution_count": 4,
   "metadata": {},
   "outputs": [
    {
     "name": "stdout",
     "output_type": "stream",
     "text": [
      "<class 'pandas.core.frame.DataFrame'>\n",
      "RangeIndex: 550 entries, 0 to 549\n",
      "Data columns (total 7 columns):\n",
      " #   Column       Non-Null Count  Dtype  \n",
      "---  ------       --------------  -----  \n",
      " 0   Name         550 non-null    object \n",
      " 1   Author       550 non-null    object \n",
      " 2   User Rating  550 non-null    float64\n",
      " 3   Reviews      550 non-null    int64  \n",
      " 4   Price        550 non-null    int64  \n",
      " 5   Year         550 non-null    int64  \n",
      " 6   Genre        550 non-null    object \n",
      "dtypes: float64(1), int64(3), object(3)\n",
      "memory usage: 30.2+ KB\n"
     ]
    }
   ],
   "source": [
    "ebooks.info()"
   ]
  },
  {
   "cell_type": "code",
   "execution_count": 5,
   "metadata": {},
   "outputs": [
    {
     "data": {
      "text/html": [
       "<div>\n",
       "<style scoped>\n",
       "    .dataframe tbody tr th:only-of-type {\n",
       "        vertical-align: middle;\n",
       "    }\n",
       "\n",
       "    .dataframe tbody tr th {\n",
       "        vertical-align: top;\n",
       "    }\n",
       "\n",
       "    .dataframe thead th {\n",
       "        text-align: right;\n",
       "    }\n",
       "</style>\n",
       "<table border=\"1\" class=\"dataframe\">\n",
       "  <thead>\n",
       "    <tr style=\"text-align: right;\">\n",
       "      <th></th>\n",
       "      <th>User Rating</th>\n",
       "      <th>Reviews</th>\n",
       "      <th>Price</th>\n",
       "      <th>Year</th>\n",
       "    </tr>\n",
       "  </thead>\n",
       "  <tbody>\n",
       "    <tr>\n",
       "      <th>count</th>\n",
       "      <td>550.000000</td>\n",
       "      <td>550.000000</td>\n",
       "      <td>550.000000</td>\n",
       "      <td>550.000000</td>\n",
       "    </tr>\n",
       "    <tr>\n",
       "      <th>mean</th>\n",
       "      <td>4.618364</td>\n",
       "      <td>11953.281818</td>\n",
       "      <td>13.100000</td>\n",
       "      <td>2014.000000</td>\n",
       "    </tr>\n",
       "    <tr>\n",
       "      <th>std</th>\n",
       "      <td>0.226980</td>\n",
       "      <td>11731.132017</td>\n",
       "      <td>10.842262</td>\n",
       "      <td>3.165156</td>\n",
       "    </tr>\n",
       "    <tr>\n",
       "      <th>min</th>\n",
       "      <td>3.300000</td>\n",
       "      <td>37.000000</td>\n",
       "      <td>0.000000</td>\n",
       "      <td>2009.000000</td>\n",
       "    </tr>\n",
       "    <tr>\n",
       "      <th>25%</th>\n",
       "      <td>4.500000</td>\n",
       "      <td>4058.000000</td>\n",
       "      <td>7.000000</td>\n",
       "      <td>2011.000000</td>\n",
       "    </tr>\n",
       "    <tr>\n",
       "      <th>50%</th>\n",
       "      <td>4.700000</td>\n",
       "      <td>8580.000000</td>\n",
       "      <td>11.000000</td>\n",
       "      <td>2014.000000</td>\n",
       "    </tr>\n",
       "    <tr>\n",
       "      <th>75%</th>\n",
       "      <td>4.800000</td>\n",
       "      <td>17253.250000</td>\n",
       "      <td>16.000000</td>\n",
       "      <td>2017.000000</td>\n",
       "    </tr>\n",
       "    <tr>\n",
       "      <th>max</th>\n",
       "      <td>4.900000</td>\n",
       "      <td>87841.000000</td>\n",
       "      <td>105.000000</td>\n",
       "      <td>2019.000000</td>\n",
       "    </tr>\n",
       "  </tbody>\n",
       "</table>\n",
       "</div>"
      ],
      "text/plain": [
       "       User Rating       Reviews       Price         Year\n",
       "count   550.000000    550.000000  550.000000   550.000000\n",
       "mean      4.618364  11953.281818   13.100000  2014.000000\n",
       "std       0.226980  11731.132017   10.842262     3.165156\n",
       "min       3.300000     37.000000    0.000000  2009.000000\n",
       "25%       4.500000   4058.000000    7.000000  2011.000000\n",
       "50%       4.700000   8580.000000   11.000000  2014.000000\n",
       "75%       4.800000  17253.250000   16.000000  2017.000000\n",
       "max       4.900000  87841.000000  105.000000  2019.000000"
      ]
     },
     "execution_count": 5,
     "metadata": {},
     "output_type": "execute_result"
    }
   ],
   "source": [
    "ebooks.describe()"
   ]
  },
  {
   "cell_type": "code",
   "execution_count": 6,
   "metadata": {},
   "outputs": [
    {
     "data": {
      "text/plain": [
       "User Rating\n",
       "3.3      1\n",
       "3.6      1\n",
       "3.8      2\n",
       "3.9      3\n",
       "4.1      6\n",
       "4.2      8\n",
       "4.0     14\n",
       "4.3     25\n",
       "4.4     38\n",
       "4.9     52\n",
       "4.5     60\n",
       "4.6    105\n",
       "4.7    108\n",
       "4.8    127\n",
       "Name: Name, dtype: int64"
      ]
     },
     "execution_count": 6,
     "metadata": {},
     "output_type": "execute_result"
    }
   ],
   "source": [
    "ebooks.groupby(\"User Rating\").count().sort_values(\"Name\")[\"Name\"] #groupby based on userratings"
   ]
  },
  {
   "cell_type": "markdown",
   "metadata": {},
   "source": [
    "### Finding top 50 ebooks"
   ]
  },
  {
   "cell_type": "code",
   "execution_count": 7,
   "metadata": {},
   "outputs": [
    {
     "data": {
      "text/html": [
       "<div>\n",
       "<style scoped>\n",
       "    .dataframe tbody tr th:only-of-type {\n",
       "        vertical-align: middle;\n",
       "    }\n",
       "\n",
       "    .dataframe tbody tr th {\n",
       "        vertical-align: top;\n",
       "    }\n",
       "\n",
       "    .dataframe thead th {\n",
       "        text-align: right;\n",
       "    }\n",
       "</style>\n",
       "<table border=\"1\" class=\"dataframe\">\n",
       "  <thead>\n",
       "    <tr style=\"text-align: right;\">\n",
       "      <th></th>\n",
       "      <th>Name</th>\n",
       "      <th>Author</th>\n",
       "      <th>User Rating</th>\n",
       "      <th>Reviews</th>\n",
       "      <th>Price</th>\n",
       "      <th>Year</th>\n",
       "      <th>Genre</th>\n",
       "    </tr>\n",
       "  </thead>\n",
       "  <tbody>\n",
       "    <tr>\n",
       "      <th>245</th>\n",
       "      <td>Oh, the Places You'll Go!</td>\n",
       "      <td>Dr. Seuss</td>\n",
       "      <td>4.9</td>\n",
       "      <td>21834</td>\n",
       "      <td>8</td>\n",
       "      <td>2012</td>\n",
       "      <td>Fiction</td>\n",
       "    </tr>\n",
       "    <tr>\n",
       "      <th>246</th>\n",
       "      <td>Oh, the Places You'll Go!</td>\n",
       "      <td>Dr. Seuss</td>\n",
       "      <td>4.9</td>\n",
       "      <td>21834</td>\n",
       "      <td>8</td>\n",
       "      <td>2013</td>\n",
       "      <td>Fiction</td>\n",
       "    </tr>\n",
       "    <tr>\n",
       "      <th>247</th>\n",
       "      <td>Oh, the Places You'll Go!</td>\n",
       "      <td>Dr. Seuss</td>\n",
       "      <td>4.9</td>\n",
       "      <td>21834</td>\n",
       "      <td>8</td>\n",
       "      <td>2014</td>\n",
       "      <td>Fiction</td>\n",
       "    </tr>\n",
       "    <tr>\n",
       "      <th>248</th>\n",
       "      <td>Oh, the Places You'll Go!</td>\n",
       "      <td>Dr. Seuss</td>\n",
       "      <td>4.9</td>\n",
       "      <td>21834</td>\n",
       "      <td>8</td>\n",
       "      <td>2015</td>\n",
       "      <td>Fiction</td>\n",
       "    </tr>\n",
       "    <tr>\n",
       "      <th>249</th>\n",
       "      <td>Oh, the Places You'll Go!</td>\n",
       "      <td>Dr. Seuss</td>\n",
       "      <td>4.9</td>\n",
       "      <td>21834</td>\n",
       "      <td>8</td>\n",
       "      <td>2016</td>\n",
       "      <td>Fiction</td>\n",
       "    </tr>\n",
       "    <tr>\n",
       "      <th>250</th>\n",
       "      <td>Oh, the Places You'll Go!</td>\n",
       "      <td>Dr. Seuss</td>\n",
       "      <td>4.9</td>\n",
       "      <td>21834</td>\n",
       "      <td>8</td>\n",
       "      <td>2017</td>\n",
       "      <td>Fiction</td>\n",
       "    </tr>\n",
       "    <tr>\n",
       "      <th>251</th>\n",
       "      <td>Oh, the Places You'll Go!</td>\n",
       "      <td>Dr. Seuss</td>\n",
       "      <td>4.9</td>\n",
       "      <td>21834</td>\n",
       "      <td>8</td>\n",
       "      <td>2018</td>\n",
       "      <td>Fiction</td>\n",
       "    </tr>\n",
       "    <tr>\n",
       "      <th>252</th>\n",
       "      <td>Oh, the Places You'll Go!</td>\n",
       "      <td>Dr. Seuss</td>\n",
       "      <td>4.9</td>\n",
       "      <td>21834</td>\n",
       "      <td>8</td>\n",
       "      <td>2019</td>\n",
       "      <td>Fiction</td>\n",
       "    </tr>\n",
       "    <tr>\n",
       "      <th>153</th>\n",
       "      <td>Harry Potter and the Chamber of Secrets: The I...</td>\n",
       "      <td>J.K. Rowling</td>\n",
       "      <td>4.9</td>\n",
       "      <td>19622</td>\n",
       "      <td>30</td>\n",
       "      <td>2016</td>\n",
       "      <td>Fiction</td>\n",
       "    </tr>\n",
       "    <tr>\n",
       "      <th>187</th>\n",
       "      <td>Jesus Calling: Enjoying Peace in His Presence ...</td>\n",
       "      <td>Sarah Young</td>\n",
       "      <td>4.9</td>\n",
       "      <td>19576</td>\n",
       "      <td>8</td>\n",
       "      <td>2011</td>\n",
       "      <td>Non Fiction</td>\n",
       "    </tr>\n",
       "  </tbody>\n",
       "</table>\n",
       "</div>"
      ],
      "text/plain": [
       "                                                  Name        Author  \\\n",
       "245                          Oh, the Places You'll Go!     Dr. Seuss   \n",
       "246                          Oh, the Places You'll Go!     Dr. Seuss   \n",
       "247                          Oh, the Places You'll Go!     Dr. Seuss   \n",
       "248                          Oh, the Places You'll Go!     Dr. Seuss   \n",
       "249                          Oh, the Places You'll Go!     Dr. Seuss   \n",
       "250                          Oh, the Places You'll Go!     Dr. Seuss   \n",
       "251                          Oh, the Places You'll Go!     Dr. Seuss   \n",
       "252                          Oh, the Places You'll Go!     Dr. Seuss   \n",
       "153  Harry Potter and the Chamber of Secrets: The I...  J.K. Rowling   \n",
       "187  Jesus Calling: Enjoying Peace in His Presence ...   Sarah Young   \n",
       "\n",
       "     User Rating  Reviews  Price  Year        Genre  \n",
       "245          4.9    21834      8  2012      Fiction  \n",
       "246          4.9    21834      8  2013      Fiction  \n",
       "247          4.9    21834      8  2014      Fiction  \n",
       "248          4.9    21834      8  2015      Fiction  \n",
       "249          4.9    21834      8  2016      Fiction  \n",
       "250          4.9    21834      8  2017      Fiction  \n",
       "251          4.9    21834      8  2018      Fiction  \n",
       "252          4.9    21834      8  2019      Fiction  \n",
       "153          4.9    19622     30  2016      Fiction  \n",
       "187          4.9    19576      8  2011  Non Fiction  "
      ]
     },
     "execution_count": 7,
     "metadata": {},
     "output_type": "execute_result"
    }
   ],
   "source": [
    "top_ebooks = ebooks.sort_values([\"User Rating\",\"Reviews\"],ascending = False).head(50) \n",
    "top_ebooks.head(10)"
   ]
  },
  {
   "cell_type": "markdown",
   "metadata": {},
   "source": [
    "### Cleaning the Data for Further Analysis"
   ]
  },
  {
   "cell_type": "code",
   "execution_count": 8,
   "metadata": {},
   "outputs": [
    {
     "data": {
      "text/plain": [
       "False"
      ]
     },
     "execution_count": 8,
     "metadata": {},
     "output_type": "execute_result"
    }
   ],
   "source": [
    "top_ebooks.isnull().values.any()"
   ]
  },
  {
   "cell_type": "code",
   "execution_count": 9,
   "metadata": {},
   "outputs": [
    {
     "data": {
      "text/plain": [
       "Author\n",
       "Jeff Kinney              1\n",
       "Chip Gaines              1\n",
       "Pete Souza               1\n",
       "Patrick Thorpe           1\n",
       "Nathan W. Pyle           1\n",
       "J. K. Rowling            1\n",
       "Mark R. Levin            1\n",
       "Lin-Manuel Miranda       1\n",
       "Jill Twiss               1\n",
       "Rush Limbaugh            2\n",
       "Bill Martin Jr.          2\n",
       "Sherri Duskey Rinker     2\n",
       "J.K. Rowling             3\n",
       "Emily Winfield Martin    4\n",
       "Sarah Young              6\n",
       "Eric Carle               7\n",
       "Dav Pilkey               7\n",
       "Dr. Seuss                8\n",
       "Name: Name, dtype: int64"
      ]
     },
     "execution_count": 9,
     "metadata": {},
     "output_type": "execute_result"
    }
   ],
   "source": [
    "top_ebooks.groupby(\"Author\").count().sort_values(\"Name\")[\"Name\"] #finding Author of top 50 ebooks"
   ]
  },
  {
   "cell_type": "markdown",
   "metadata": {},
   "source": [
    "**Here J K Rowling has come two times as author** *need to merge this"
   ]
  },
  {
   "cell_type": "code",
   "execution_count": 10,
   "metadata": {},
   "outputs": [
    {
     "data": {
      "text/plain": [
       "Author\n",
       "Jill Twiss               1\n",
       "Chip Gaines              1\n",
       "Pete Souza               1\n",
       "Patrick Thorpe           1\n",
       "Nathan W. Pyle           1\n",
       "Mark R. Levin            1\n",
       "Jeff Kinney              1\n",
       "Lin-Manuel Miranda       1\n",
       "Rush Limbaugh            2\n",
       "Bill Martin Jr.          2\n",
       "Sherri Duskey Rinker     2\n",
       "J.K. Rowling             4\n",
       "Emily Winfield Martin    4\n",
       "Sarah Young              6\n",
       "Eric Carle               7\n",
       "Dav Pilkey               7\n",
       "Dr. Seuss                8\n",
       "Name: Name, dtype: int64"
      ]
     },
     "execution_count": 10,
     "metadata": {},
     "output_type": "execute_result"
    }
   ],
   "source": [
    "ebooks[\"Author\"].replace(\"J. K. Rowling\",\"J.K. Rowling\",inplace = True)  #replaced the space on JK rowling col\n",
    "\n",
    "top_ebooks = ebooks.sort_values([\"User Rating\",\"Reviews\"],ascending = False).head(50)\n",
    "top_ebooks.groupby(\"Author\").count().sort_values(\"Name\")[\"Name\"]"
   ]
  },
  {
   "cell_type": "code",
   "execution_count": 11,
   "metadata": {},
   "outputs": [
    {
     "name": "stdout",
     "output_type": "stream",
     "text": [
      "<class 'pandas.core.frame.DataFrame'>\n",
      "Int64Index: 50 entries, 245 to 156\n",
      "Data columns (total 7 columns):\n",
      " #   Column       Non-Null Count  Dtype  \n",
      "---  ------       --------------  -----  \n",
      " 0   Name         50 non-null     object \n",
      " 1   Author       50 non-null     object \n",
      " 2   User Rating  50 non-null     float64\n",
      " 3   Reviews      50 non-null     int64  \n",
      " 4   Price        50 non-null     int64  \n",
      " 5   Year         50 non-null     int64  \n",
      " 6   Genre        50 non-null     object \n",
      "dtypes: float64(1), int64(3), object(3)\n",
      "memory usage: 3.1+ KB\n"
     ]
    }
   ],
   "source": [
    "top_ebooks.info()"
   ]
  },
  {
   "cell_type": "markdown",
   "metadata": {},
   "source": [
    "## Plotting the Visualizations\n",
    "**On based on Genre**"
   ]
  },
  {
   "cell_type": "code",
   "execution_count": 12,
   "metadata": {},
   "outputs": [
    {
     "data": {
      "image/png": "[encoded data removed]",
      "text/plain": [
       "<Figure size 800x320 with 1 Axes>"
      ]
     },
     "metadata": {
      "needs_background": "light"
     },
     "output_type": "display_data"
    }
   ],
   "source": [
    "plt.figure(figsize=(5,2),dpi=160)\n",
    "sns.countplot(x='Genre',data=ebooks);"
   ]
  },
  {
   "cell_type": "markdown",
   "metadata": {},
   "source": [
    "## Book Price Distribution"
   ]
  },
  {
   "cell_type": "code",
   "execution_count": 24,
   "metadata": {},
   "outputs": [
    {
     "data": {
      "image/png": "[encoded data removed]",
      "text/plain": [
       "<Figure size 910x390 with 1 Axes>"
      ]
     },
     "metadata": {
      "needs_background": "light"
     },
     "output_type": "display_data"
    }
   ],
   "source": [
    "plt.figure(figsize=(7,3),dpi=130)\n",
    "sns.kdeplot(data=ebooks,x=\"Price\", fill = True);"
   ]
  },
  {
   "cell_type": "markdown",
   "metadata": {},
   "source": [
    "## Ebook Ratings Distribution"
   ]
  },
  {
   "cell_type": "code",
   "execution_count": 23,
   "metadata": {},
   "outputs": [
    {
     "data": {
      "image/png": "[encoded data removed]",
      "text/plain": [
       "<Figure size 1040x390 with 1 Axes>"
      ]
     },
     "metadata": {
      "needs_background": "light"
     },
     "output_type": "display_data"
    }
   ],
   "source": [
    "plt.figure(figsize=(8,3),dpi=130)\n",
    "sns.kdeplot(data=ebooks,x=\"User Rating\", fill = True);"
   ]
  },
  {
   "cell_type": "markdown",
   "metadata": {},
   "source": [
    "## Price of Books based on Category"
   ]
  },
  {
   "cell_type": "code",
   "execution_count": 26,
   "metadata": {},
   "outputs": [
    {
     "data": {
      "image/png": "[encoded data removed]",
      "text/plain": [
       "<Figure size 900x450 with 1 Axes>"
      ]
     },
     "metadata": {
      "needs_background": "light"
     },
     "output_type": "display_data"
    }
   ],
   "source": [
    "plt.figure(figsize=(6,3),dpi=150)\n",
    "sns.kdeplot(data=ebooks,x=\"Price\",hue=\"Genre\",fill=True,palette=\"Dark2\");"
   ]
  }
 ],
 "metadata": {
  "kernelspec": {
   "display_name": "Python 3",
   "language": "python",
   "name": "python3"
  },
  "language_info": {
   "codemirror_mode": {
    "name": "ipython",
    "version": 3
   },
   "file_extension": ".py",
   "mimetype": "text/x-python",
   "name": "python",
   "nbconvert_exporter": "python",
   "pygments_lexer": "ipython3",
   "version": "3.8.5"
  }
 },
 "nbformat": 4,
 "nbformat_minor": 4
}
